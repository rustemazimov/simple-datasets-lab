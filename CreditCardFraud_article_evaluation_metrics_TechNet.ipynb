{
 "cells": [
  {
   "cell_type": "markdown",
   "id": "e1f3a2fa",
   "metadata": {},
   "source": [
    "<h1 align=\"center\">Introduction</h1>\n",
    "<b>Digital payments</b> are evolving, but so are cyber criminals.\n",
    "\n",
    "According to the Data Breach Index, <b>more than 5 million records are being stolen on a daily basis</b>, a concerning statistic that shows - fraud is still very common both for <i>Card-Present and Card-not Present type of payments</i>.\n",
    "\n",
    "In today’s digital world where <b>trillions of Card transaction happens per day</b>, detection of fraud is challenging.\n",
    "\n",
    "This Dataset sourced by some unnamed institute.\n",
    "\n",
    "<h1 align=\"center\">Feature Explanation</h1>\n",
    "\n",
    "<b>distancefromhome</b> - the distance from home where the transaction happened.\n",
    "\n",
    "<b>distancefromlast_transaction</b> - the distance from last transaction happened.\n",
    "\n",
    "<b>ratiotomedianpurchaseprice</b> - Ratio of purchased price transaction to median purchase price.\n",
    "\n",
    "<b>repeat_retailer</b> - Is the transaction happened from same retailer.\n",
    "\n",
    "<b>used_chip</b> - Is the transaction through chip (credit card).\n",
    "\n",
    "<b>usedpinnumber</b> - Is the transaction happened by using PIN number.\n",
    "\n",
    "<b>online_order</b> - Is the transaction an online order.\n",
    "\n",
    "<b>fraud</b> - Is the transaction fraudulent.\n",
    "\n",
    "<h2 align=\"center\">References</h2>\n",
    "<ol>\n",
    "    <li>https://www.kaggle.com/datasets/dhanushnarayananr/credit-card-fraud</li>\n",
    "</ol>"
   ]
  },
  {
   "cell_type": "markdown",
   "id": "e96e979c",
   "metadata": {},
   "source": [
    "<h1 align=\"center\">1. Exploratory Analysis and Data Preparation</h1>"
   ]
  },
  {
   "cell_type": "code",
   "execution_count": 142,
   "id": "3cc2f548",
   "metadata": {},
   "outputs": [],
   "source": [
    "# Import libraries\n",
    "import os, random, sklearn\n",
    "import pandas as pd\n",
    "from xgboost import XGBClassifier\n",
    "from sklearn.model_selection import train_test_split\n",
    "from tensorflow.keras.utils import to_categorical\n",
    "from sklearn.svm import SVC\n",
    "from sklearn.utils import class_weight\n",
    "from sklearn import metrics\n",
    "from sklearn.metrics import roc_curve, auc, precision_recall_curve\n",
    "\n",
    "import tensorflow as tf\n",
    "from tensorflow import keras\n",
    "from matplotlib import pyplot as plt\n",
    "import numpy as np\n",
    "from tensorflow.keras import datasets, layers, models, losses\n",
    "from tensorflow.keras import models\n",
    "from tensorflow.keras.utils import to_categorical\n",
    "from tensorflow.keras.callbacks import EarlyStopping\n",
    "import seaborn as sns"
   ]
  },
  {
   "cell_type": "code",
   "execution_count": 16,
   "id": "077fe3e1",
   "metadata": {},
   "outputs": [],
   "source": [
    "# Some Basic Characteristics\n",
    "SEED = 42\n",
    "TEST_SIZE_DATASET__SIZE_RATIO = 0.2\n",
    "\n",
    "random.seed = SEED\n",
    "tf.random.set_seed(SEED)\n",
    "\n",
    "DATASET_PATH = 'datasets/creditcardfraud/card_transdata.csv'\n",
    "OUTPUT_PATH = 'output/'\n",
    "CLASS_NAMES = ['Valid', 'Fraud']\n",
    "\n",
    "MODEL_NAME_ANN = 'ANN'\n",
    "MODEL_NAME_XGB = 'XGBClassifier'\n",
    "MODEL_NAME_XGB10 = 'XGBClassifier - 10'\n",
    "\n",
    "if not os.path.exists(OUTPUT_PATH):\n",
    "    os.makedirs(OUTPUT_PATH)"
   ]
  },
  {
   "cell_type": "code",
   "execution_count": 18,
   "id": "b9bd2517",
   "metadata": {},
   "outputs": [
    {
     "data": {
      "text/html": [
       "<div>\n",
       "<style scoped>\n",
       "    .dataframe tbody tr th:only-of-type {\n",
       "        vertical-align: middle;\n",
       "    }\n",
       "\n",
       "    .dataframe tbody tr th {\n",
       "        vertical-align: top;\n",
       "    }\n",
       "\n",
       "    .dataframe thead th {\n",
       "        text-align: right;\n",
       "    }\n",
       "</style>\n",
       "<table border=\"1\" class=\"dataframe\">\n",
       "  <thead>\n",
       "    <tr style=\"text-align: right;\">\n",
       "      <th></th>\n",
       "      <th>distance_from_home</th>\n",
       "      <th>distance_from_last_transaction</th>\n",
       "      <th>ratio_to_median_purchase_price</th>\n",
       "      <th>repeat_retailer</th>\n",
       "      <th>used_chip</th>\n",
       "      <th>used_pin_number</th>\n",
       "      <th>online_order</th>\n",
       "      <th>fraud</th>\n",
       "    </tr>\n",
       "  </thead>\n",
       "  <tbody>\n",
       "    <tr>\n",
       "      <th>0</th>\n",
       "      <td>57.877857</td>\n",
       "      <td>0.311140</td>\n",
       "      <td>1.945940</td>\n",
       "      <td>1.0</td>\n",
       "      <td>1.0</td>\n",
       "      <td>0.0</td>\n",
       "      <td>0.0</td>\n",
       "      <td>0.0</td>\n",
       "    </tr>\n",
       "    <tr>\n",
       "      <th>1</th>\n",
       "      <td>10.829943</td>\n",
       "      <td>0.175592</td>\n",
       "      <td>1.294219</td>\n",
       "      <td>1.0</td>\n",
       "      <td>0.0</td>\n",
       "      <td>0.0</td>\n",
       "      <td>0.0</td>\n",
       "      <td>0.0</td>\n",
       "    </tr>\n",
       "    <tr>\n",
       "      <th>2</th>\n",
       "      <td>5.091079</td>\n",
       "      <td>0.805153</td>\n",
       "      <td>0.427715</td>\n",
       "      <td>1.0</td>\n",
       "      <td>0.0</td>\n",
       "      <td>0.0</td>\n",
       "      <td>1.0</td>\n",
       "      <td>0.0</td>\n",
       "    </tr>\n",
       "    <tr>\n",
       "      <th>3</th>\n",
       "      <td>2.247564</td>\n",
       "      <td>5.600044</td>\n",
       "      <td>0.362663</td>\n",
       "      <td>1.0</td>\n",
       "      <td>1.0</td>\n",
       "      <td>0.0</td>\n",
       "      <td>1.0</td>\n",
       "      <td>0.0</td>\n",
       "    </tr>\n",
       "    <tr>\n",
       "      <th>4</th>\n",
       "      <td>44.190936</td>\n",
       "      <td>0.566486</td>\n",
       "      <td>2.222767</td>\n",
       "      <td>1.0</td>\n",
       "      <td>1.0</td>\n",
       "      <td>0.0</td>\n",
       "      <td>1.0</td>\n",
       "      <td>0.0</td>\n",
       "    </tr>\n",
       "    <tr>\n",
       "      <th>...</th>\n",
       "      <td>...</td>\n",
       "      <td>...</td>\n",
       "      <td>...</td>\n",
       "      <td>...</td>\n",
       "      <td>...</td>\n",
       "      <td>...</td>\n",
       "      <td>...</td>\n",
       "      <td>...</td>\n",
       "    </tr>\n",
       "    <tr>\n",
       "      <th>999995</th>\n",
       "      <td>2.207101</td>\n",
       "      <td>0.112651</td>\n",
       "      <td>1.626798</td>\n",
       "      <td>1.0</td>\n",
       "      <td>1.0</td>\n",
       "      <td>0.0</td>\n",
       "      <td>0.0</td>\n",
       "      <td>0.0</td>\n",
       "    </tr>\n",
       "    <tr>\n",
       "      <th>999996</th>\n",
       "      <td>19.872726</td>\n",
       "      <td>2.683904</td>\n",
       "      <td>2.778303</td>\n",
       "      <td>1.0</td>\n",
       "      <td>1.0</td>\n",
       "      <td>0.0</td>\n",
       "      <td>0.0</td>\n",
       "      <td>0.0</td>\n",
       "    </tr>\n",
       "    <tr>\n",
       "      <th>999997</th>\n",
       "      <td>2.914857</td>\n",
       "      <td>1.472687</td>\n",
       "      <td>0.218075</td>\n",
       "      <td>1.0</td>\n",
       "      <td>1.0</td>\n",
       "      <td>0.0</td>\n",
       "      <td>1.0</td>\n",
       "      <td>0.0</td>\n",
       "    </tr>\n",
       "    <tr>\n",
       "      <th>999998</th>\n",
       "      <td>4.258729</td>\n",
       "      <td>0.242023</td>\n",
       "      <td>0.475822</td>\n",
       "      <td>1.0</td>\n",
       "      <td>0.0</td>\n",
       "      <td>0.0</td>\n",
       "      <td>1.0</td>\n",
       "      <td>0.0</td>\n",
       "    </tr>\n",
       "    <tr>\n",
       "      <th>999999</th>\n",
       "      <td>58.108125</td>\n",
       "      <td>0.318110</td>\n",
       "      <td>0.386920</td>\n",
       "      <td>1.0</td>\n",
       "      <td>1.0</td>\n",
       "      <td>0.0</td>\n",
       "      <td>1.0</td>\n",
       "      <td>0.0</td>\n",
       "    </tr>\n",
       "  </tbody>\n",
       "</table>\n",
       "<p>1000000 rows × 8 columns</p>\n",
       "</div>"
      ],
      "text/plain": [
       "        distance_from_home  distance_from_last_transaction  \\\n",
       "0                57.877857                        0.311140   \n",
       "1                10.829943                        0.175592   \n",
       "2                 5.091079                        0.805153   \n",
       "3                 2.247564                        5.600044   \n",
       "4                44.190936                        0.566486   \n",
       "...                    ...                             ...   \n",
       "999995            2.207101                        0.112651   \n",
       "999996           19.872726                        2.683904   \n",
       "999997            2.914857                        1.472687   \n",
       "999998            4.258729                        0.242023   \n",
       "999999           58.108125                        0.318110   \n",
       "\n",
       "        ratio_to_median_purchase_price  repeat_retailer  used_chip  \\\n",
       "0                             1.945940              1.0        1.0   \n",
       "1                             1.294219              1.0        0.0   \n",
       "2                             0.427715              1.0        0.0   \n",
       "3                             0.362663              1.0        1.0   \n",
       "4                             2.222767              1.0        1.0   \n",
       "...                                ...              ...        ...   \n",
       "999995                        1.626798              1.0        1.0   \n",
       "999996                        2.778303              1.0        1.0   \n",
       "999997                        0.218075              1.0        1.0   \n",
       "999998                        0.475822              1.0        0.0   \n",
       "999999                        0.386920              1.0        1.0   \n",
       "\n",
       "        used_pin_number  online_order  fraud  \n",
       "0                   0.0           0.0    0.0  \n",
       "1                   0.0           0.0    0.0  \n",
       "2                   0.0           1.0    0.0  \n",
       "3                   0.0           1.0    0.0  \n",
       "4                   0.0           1.0    0.0  \n",
       "...                 ...           ...    ...  \n",
       "999995              0.0           0.0    0.0  \n",
       "999996              0.0           0.0    0.0  \n",
       "999997              0.0           1.0    0.0  \n",
       "999998              0.0           1.0    0.0  \n",
       "999999              0.0           1.0    0.0  \n",
       "\n",
       "[1000000 rows x 8 columns]"
      ]
     },
     "execution_count": 18,
     "metadata": {},
     "output_type": "execute_result"
    }
   ],
   "source": [
    "# Read dataset\n",
    "df = pd.read_csv(DATASET_PATH)\n",
    "df"
   ]
  },
  {
   "cell_type": "code",
   "execution_count": 19,
   "id": "aa3ea444",
   "metadata": {},
   "outputs": [
    {
     "data": {
      "text/plain": [
       "distance_from_home                0\n",
       "distance_from_last_transaction    0\n",
       "ratio_to_median_purchase_price    0\n",
       "repeat_retailer                   0\n",
       "used_chip                         0\n",
       "used_pin_number                   0\n",
       "online_order                      0\n",
       "fraud                             0\n",
       "dtype: int64"
      ]
     },
     "execution_count": 19,
     "metadata": {},
     "output_type": "execute_result"
    }
   ],
   "source": [
    "# NA values counts\n",
    "df.isnull().sum()"
   ]
  },
  {
   "cell_type": "code",
   "execution_count": 20,
   "id": "99b6c731",
   "metadata": {},
   "outputs": [
    {
     "name": "stdout",
     "output_type": "stream",
     "text": [
      "<class 'pandas.core.frame.DataFrame'>\n",
      "RangeIndex: 1000000 entries, 0 to 999999\n",
      "Data columns (total 8 columns):\n",
      " #   Column                          Non-Null Count    Dtype  \n",
      "---  ------                          --------------    -----  \n",
      " 0   distance_from_home              1000000 non-null  float64\n",
      " 1   distance_from_last_transaction  1000000 non-null  float64\n",
      " 2   ratio_to_median_purchase_price  1000000 non-null  float64\n",
      " 3   repeat_retailer                 1000000 non-null  float64\n",
      " 4   used_chip                       1000000 non-null  float64\n",
      " 5   used_pin_number                 1000000 non-null  float64\n",
      " 6   online_order                    1000000 non-null  float64\n",
      " 7   fraud                           1000000 non-null  float64\n",
      "dtypes: float64(8)\n",
      "memory usage: 61.0 MB\n"
     ]
    }
   ],
   "source": [
    "# Look through columns and NA values statistics\n",
    "df.info()"
   ]
  },
  {
   "cell_type": "code",
   "execution_count": 21,
   "id": "91b0038d",
   "metadata": {},
   "outputs": [
    {
     "data": {
      "text/html": [
       "<div>\n",
       "<style scoped>\n",
       "    .dataframe tbody tr th:only-of-type {\n",
       "        vertical-align: middle;\n",
       "    }\n",
       "\n",
       "    .dataframe tbody tr th {\n",
       "        vertical-align: top;\n",
       "    }\n",
       "\n",
       "    .dataframe thead th {\n",
       "        text-align: right;\n",
       "    }\n",
       "</style>\n",
       "<table border=\"1\" class=\"dataframe\">\n",
       "  <thead>\n",
       "    <tr style=\"text-align: right;\">\n",
       "      <th></th>\n",
       "      <th>distance_from_home</th>\n",
       "      <th>distance_from_last_transaction</th>\n",
       "      <th>ratio_to_median_purchase_price</th>\n",
       "      <th>repeat_retailer</th>\n",
       "      <th>used_chip</th>\n",
       "      <th>used_pin_number</th>\n",
       "      <th>online_order</th>\n",
       "      <th>fraud</th>\n",
       "    </tr>\n",
       "  </thead>\n",
       "  <tbody>\n",
       "    <tr>\n",
       "      <th>count</th>\n",
       "      <td>1000000.000000</td>\n",
       "      <td>1000000.000000</td>\n",
       "      <td>1000000.000000</td>\n",
       "      <td>1000000.000000</td>\n",
       "      <td>1000000.000000</td>\n",
       "      <td>1000000.000000</td>\n",
       "      <td>1000000.000000</td>\n",
       "      <td>1000000.000000</td>\n",
       "    </tr>\n",
       "    <tr>\n",
       "      <th>mean</th>\n",
       "      <td>26.628792</td>\n",
       "      <td>5.036519</td>\n",
       "      <td>1.824182</td>\n",
       "      <td>0.881536</td>\n",
       "      <td>0.350399</td>\n",
       "      <td>0.100608</td>\n",
       "      <td>0.650552</td>\n",
       "      <td>0.087403</td>\n",
       "    </tr>\n",
       "    <tr>\n",
       "      <th>std</th>\n",
       "      <td>65.390784</td>\n",
       "      <td>25.843093</td>\n",
       "      <td>2.799589</td>\n",
       "      <td>0.323157</td>\n",
       "      <td>0.477095</td>\n",
       "      <td>0.300809</td>\n",
       "      <td>0.476796</td>\n",
       "      <td>0.282425</td>\n",
       "    </tr>\n",
       "    <tr>\n",
       "      <th>min</th>\n",
       "      <td>0.004874</td>\n",
       "      <td>0.000118</td>\n",
       "      <td>0.004399</td>\n",
       "      <td>0.000000</td>\n",
       "      <td>0.000000</td>\n",
       "      <td>0.000000</td>\n",
       "      <td>0.000000</td>\n",
       "      <td>0.000000</td>\n",
       "    </tr>\n",
       "    <tr>\n",
       "      <th>25%</th>\n",
       "      <td>3.878008</td>\n",
       "      <td>0.296671</td>\n",
       "      <td>0.475673</td>\n",
       "      <td>1.000000</td>\n",
       "      <td>0.000000</td>\n",
       "      <td>0.000000</td>\n",
       "      <td>0.000000</td>\n",
       "      <td>0.000000</td>\n",
       "    </tr>\n",
       "    <tr>\n",
       "      <th>50%</th>\n",
       "      <td>9.967760</td>\n",
       "      <td>0.998650</td>\n",
       "      <td>0.997717</td>\n",
       "      <td>1.000000</td>\n",
       "      <td>0.000000</td>\n",
       "      <td>0.000000</td>\n",
       "      <td>1.000000</td>\n",
       "      <td>0.000000</td>\n",
       "    </tr>\n",
       "    <tr>\n",
       "      <th>75%</th>\n",
       "      <td>25.743985</td>\n",
       "      <td>3.355748</td>\n",
       "      <td>2.096370</td>\n",
       "      <td>1.000000</td>\n",
       "      <td>1.000000</td>\n",
       "      <td>0.000000</td>\n",
       "      <td>1.000000</td>\n",
       "      <td>0.000000</td>\n",
       "    </tr>\n",
       "    <tr>\n",
       "      <th>max</th>\n",
       "      <td>10632.723672</td>\n",
       "      <td>11851.104565</td>\n",
       "      <td>267.802942</td>\n",
       "      <td>1.000000</td>\n",
       "      <td>1.000000</td>\n",
       "      <td>1.000000</td>\n",
       "      <td>1.000000</td>\n",
       "      <td>1.000000</td>\n",
       "    </tr>\n",
       "  </tbody>\n",
       "</table>\n",
       "</div>"
      ],
      "text/plain": [
       "       distance_from_home  distance_from_last_transaction  \\\n",
       "count      1000000.000000                  1000000.000000   \n",
       "mean            26.628792                        5.036519   \n",
       "std             65.390784                       25.843093   \n",
       "min              0.004874                        0.000118   \n",
       "25%              3.878008                        0.296671   \n",
       "50%              9.967760                        0.998650   \n",
       "75%             25.743985                        3.355748   \n",
       "max          10632.723672                    11851.104565   \n",
       "\n",
       "       ratio_to_median_purchase_price  repeat_retailer       used_chip  \\\n",
       "count                  1000000.000000   1000000.000000  1000000.000000   \n",
       "mean                         1.824182         0.881536        0.350399   \n",
       "std                          2.799589         0.323157        0.477095   \n",
       "min                          0.004399         0.000000        0.000000   \n",
       "25%                          0.475673         1.000000        0.000000   \n",
       "50%                          0.997717         1.000000        0.000000   \n",
       "75%                          2.096370         1.000000        1.000000   \n",
       "max                        267.802942         1.000000        1.000000   \n",
       "\n",
       "       used_pin_number    online_order           fraud  \n",
       "count   1000000.000000  1000000.000000  1000000.000000  \n",
       "mean          0.100608        0.650552        0.087403  \n",
       "std           0.300809        0.476796        0.282425  \n",
       "min           0.000000        0.000000        0.000000  \n",
       "25%           0.000000        0.000000        0.000000  \n",
       "50%           0.000000        1.000000        0.000000  \n",
       "75%           0.000000        1.000000        0.000000  \n",
       "max           1.000000        1.000000        1.000000  "
      ]
     },
     "execution_count": 21,
     "metadata": {},
     "output_type": "execute_result"
    }
   ],
   "source": [
    "# Show statistical characteristics\n",
    "df.describe()"
   ]
  },
  {
   "cell_type": "code",
   "execution_count": 179,
   "id": "69fd0a39",
   "metadata": {},
   "outputs": [
    {
     "data": {
      "image/png": "[encoded data removed]",
      "text/plain": [
       "<Figure size 432x288 with 2 Axes>"
      ]
     },
     "metadata": {
      "needs_background": "light"
     },
     "output_type": "display_data"
    }
   ],
   "source": [
    "# Visualize linear relationships between features\n",
    "matrix = df.corr().round(2)\n",
    "sns.heatmap(matrix, annot=True, vmax=1, vmin=-1, center=0, cmap='vlag')\n",
    "plt.savefig(os.path.join(OUTPUT_PATH, 'Corr-CreditCardFraudDetection.png'), dpi=300)\n",
    "plt.show()"
   ]
  },
  {
   "cell_type": "code",
   "execution_count": 23,
   "id": "28efefe4",
   "metadata": {},
   "outputs": [
    {
     "data": {
      "text/html": [
       "<div>\n",
       "<style scoped>\n",
       "    .dataframe tbody tr th:only-of-type {\n",
       "        vertical-align: middle;\n",
       "    }\n",
       "\n",
       "    .dataframe tbody tr th {\n",
       "        vertical-align: top;\n",
       "    }\n",
       "\n",
       "    .dataframe thead th {\n",
       "        text-align: right;\n",
       "    }\n",
       "</style>\n",
       "<table border=\"1\" class=\"dataframe\">\n",
       "  <thead>\n",
       "    <tr style=\"text-align: right;\">\n",
       "      <th></th>\n",
       "      <th>distance_from_home</th>\n",
       "      <th>distance_from_last_transaction</th>\n",
       "      <th>ratio_to_median_purchase_price</th>\n",
       "      <th>repeat_retailer</th>\n",
       "      <th>used_chip</th>\n",
       "      <th>used_pin_number</th>\n",
       "      <th>online_order</th>\n",
       "      <th>fraud</th>\n",
       "    </tr>\n",
       "  </thead>\n",
       "  <tbody>\n",
       "    <tr>\n",
       "      <th>0</th>\n",
       "      <td>57.877857</td>\n",
       "      <td>0.311140</td>\n",
       "      <td>1.945940</td>\n",
       "      <td>1.0</td>\n",
       "      <td>1.0</td>\n",
       "      <td>0.0</td>\n",
       "      <td>0.0</td>\n",
       "      <td>0.0</td>\n",
       "    </tr>\n",
       "    <tr>\n",
       "      <th>1</th>\n",
       "      <td>10.829943</td>\n",
       "      <td>0.175592</td>\n",
       "      <td>1.294219</td>\n",
       "      <td>1.0</td>\n",
       "      <td>0.0</td>\n",
       "      <td>0.0</td>\n",
       "      <td>0.0</td>\n",
       "      <td>0.0</td>\n",
       "    </tr>\n",
       "    <tr>\n",
       "      <th>2</th>\n",
       "      <td>5.091079</td>\n",
       "      <td>0.805153</td>\n",
       "      <td>0.427715</td>\n",
       "      <td>1.0</td>\n",
       "      <td>0.0</td>\n",
       "      <td>0.0</td>\n",
       "      <td>1.0</td>\n",
       "      <td>0.0</td>\n",
       "    </tr>\n",
       "    <tr>\n",
       "      <th>3</th>\n",
       "      <td>2.247564</td>\n",
       "      <td>5.600044</td>\n",
       "      <td>0.362663</td>\n",
       "      <td>1.0</td>\n",
       "      <td>1.0</td>\n",
       "      <td>0.0</td>\n",
       "      <td>1.0</td>\n",
       "      <td>0.0</td>\n",
       "    </tr>\n",
       "    <tr>\n",
       "      <th>4</th>\n",
       "      <td>44.190936</td>\n",
       "      <td>0.566486</td>\n",
       "      <td>2.222767</td>\n",
       "      <td>1.0</td>\n",
       "      <td>1.0</td>\n",
       "      <td>0.0</td>\n",
       "      <td>1.0</td>\n",
       "      <td>0.0</td>\n",
       "    </tr>\n",
       "  </tbody>\n",
       "</table>\n",
       "</div>"
      ],
      "text/plain": [
       "   distance_from_home  distance_from_last_transaction  \\\n",
       "0           57.877857                        0.311140   \n",
       "1           10.829943                        0.175592   \n",
       "2            5.091079                        0.805153   \n",
       "3            2.247564                        5.600044   \n",
       "4           44.190936                        0.566486   \n",
       "\n",
       "   ratio_to_median_purchase_price  repeat_retailer  used_chip  \\\n",
       "0                        1.945940              1.0        1.0   \n",
       "1                        1.294219              1.0        0.0   \n",
       "2                        0.427715              1.0        0.0   \n",
       "3                        0.362663              1.0        1.0   \n",
       "4                        2.222767              1.0        1.0   \n",
       "\n",
       "   used_pin_number  online_order  fraud  \n",
       "0              0.0           0.0    0.0  \n",
       "1              0.0           0.0    0.0  \n",
       "2              0.0           1.0    0.0  \n",
       "3              0.0           1.0    0.0  \n",
       "4              0.0           1.0    0.0  "
      ]
     },
     "execution_count": 23,
     "metadata": {},
     "output_type": "execute_result"
    }
   ],
   "source": [
    "df.head()"
   ]
  },
  {
   "cell_type": "code",
   "execution_count": 148,
   "id": "73dc8f7e",
   "metadata": {},
   "outputs": [
    {
     "data": {
      "text/plain": [
       "0.0    912597\n",
       "1.0     87403\n",
       "Name: fraud, dtype: int64"
      ]
     },
     "execution_count": 148,
     "metadata": {},
     "output_type": "execute_result"
    }
   ],
   "source": [
    "# Show class imbalance/data availablity\n",
    "df.fraud.value_counts()"
   ]
  },
  {
   "cell_type": "code",
   "execution_count": 176,
   "id": "af3cd180",
   "metadata": {},
   "outputs": [
    {
     "data": {
      "image/png": "[encoded data removed]",
      "text/plain": [
       "<Figure size 432x288 with 1 Axes>"
      ]
     },
     "metadata": {},
     "output_type": "display_data"
    }
   ],
   "source": [
    "# Visualize class imbalance/data availablity\n",
    "def func(pct, allvalues):\n",
    "    absolute = int(pct / 100.0 * np.sum(allvalues))\n",
    "    return \"{:.1f}%\\n({:d})\".format(pct, absolute)\n",
    "\n",
    "colors = sns.color_palette('pastel')[0:5]\n",
    "data_pie = list(df.fraud.value_counts())\n",
    "#create pie chart\n",
    "plt.pie(data_pie, labels = ['Valid', 'Fraud'], colors = colors,  \n",
    "        autopct = lambda pct: func(pct, data_pie))\n",
    "plt.savefig(os.path.join(OUTPUT_PATH, 'Class Imbalance Pie-CreditCardFraudDetection.png'), dpi=300)\n",
    "plt.show()"
   ]
  },
  {
   "cell_type": "code",
   "execution_count": 26,
   "id": "2cf993ca",
   "metadata": {},
   "outputs": [
    {
     "name": "stdout",
     "output_type": "stream",
     "text": [
      "Train: (800000, 7)\n",
      "Test: (200000, 7)\n"
     ]
    }
   ],
   "source": [
    "# Specify features and target\n",
    "X = df[df.columns[0:-1]].to_numpy()\n",
    "Y = df[df.columns[-1]].to_numpy()\n",
    "\n",
    "# Split dataset into training and test sets\n",
    "x_train, x_test, y_train, y_test = train_test_split(X, Y, test_size=TEST_SIZE_DATASET__SIZE_RATIO, random_state=SEED)\n",
    "\n",
    "print('Train:', x_train.shape)\n",
    "print('Test:', x_test.shape)"
   ]
  },
  {
   "cell_type": "code",
   "execution_count": 146,
   "id": "328260d1",
   "metadata": {},
   "outputs": [
    {
     "data": {
      "text/plain": [
       "(800000,)"
      ]
     },
     "execution_count": 146,
     "metadata": {},
     "output_type": "execute_result"
    }
   ],
   "source": [
    "y_train.shape"
   ]
  },
  {
   "cell_type": "code",
   "execution_count": 28,
   "id": "2dba40a4",
   "metadata": {},
   "outputs": [
    {
     "data": {
      "text/plain": [
       "array([0., 0., 0., ..., 0., 0., 0.])"
      ]
     },
     "execution_count": 28,
     "metadata": {},
     "output_type": "execute_result"
    }
   ],
   "source": [
    "y_train"
   ]
  },
  {
   "cell_type": "code",
   "execution_count": 57,
   "id": "0486b31a",
   "metadata": {},
   "outputs": [
    {
     "data": {
      "text/plain": [
       "(800000,)"
      ]
     },
     "execution_count": 57,
     "metadata": {},
     "output_type": "execute_result"
    }
   ],
   "source": [
    "# Define sample weights according to the class data available (class imbalance)\n",
    "class_weights = class_weight.compute_sample_weight(\n",
    "    class_weight='balanced',\n",
    "    y=y_train\n",
    ")\n",
    "class_weights.shape"
   ]
  },
  {
   "cell_type": "markdown",
   "id": "7156c0ee",
   "metadata": {},
   "source": [
    "<h1 align=\"center\">2. Modeling</h1>"
   ]
  },
  {
   "cell_type": "code",
   "execution_count": 31,
   "id": "9fc47d5a",
   "metadata": {},
   "outputs": [],
   "source": [
    "# Specify hyperparameters for ANN and CNN\n",
    "EPOCHS = 200\n",
    "callback = EarlyStopping(monitor='loss', min_delta=0.01, patience=5)\n",
    "POOL_CHOICE = layers.AveragePooling2D\n",
    "PADDING_CHOICE = 'valid'\n",
    "KERNEL_SIZE = (5,5)\n",
    "POOL_SIZE = (2,2)\n",
    "ACT_FUNC = keras.activations.relu\n",
    "OPT = keras.optimizers.Adam\n",
    "LOSS_FUNC = keras.losses.categorical_crossentropy\n",
    "METRICS = ['accuracy',\n",
    "          'mse', 'mae']\n",
    "#keras.metrics.Precision(), keras.metrics.Recall()"
   ]
  },
  {
   "cell_type": "code",
   "execution_count": 71,
   "id": "90d473d2",
   "metadata": {},
   "outputs": [
    {
     "name": "stdout",
     "output_type": "stream",
     "text": [
      "Model: \"ANN\"\n",
      "_________________________________________________________________\n",
      "Layer (type)                 Output Shape              Param #   \n",
      "=================================================================\n",
      "dense (Dense)                (None, 128)               1024      \n",
      "_________________________________________________________________\n",
      "dense_1 (Dense)              (None, 256)               33024     \n",
      "_________________________________________________________________\n",
      "dense_2 (Dense)              (None, 512)               131584    \n",
      "_________________________________________________________________\n",
      "dense_3 (Dense)              (None, 512)               262656    \n",
      "_________________________________________________________________\n",
      "dense_4 (Dense)              (None, 512)               262656    \n",
      "_________________________________________________________________\n",
      "dense_5 (Dense)              (None, 256)               131328    \n",
      "_________________________________________________________________\n",
      "dense_6 (Dense)              (None, 128)               32896     \n",
      "_________________________________________________________________\n",
      "dense_7 (Dense)              (None, 64)                8256      \n",
      "_________________________________________________________________\n",
      "dense_8 (Dense)              (None, 32)                2080      \n",
      "_________________________________________________________________\n",
      "dense_9 (Dense)              (None, 2)                 66        \n",
      "=================================================================\n",
      "Total params: 865,570\n",
      "Trainable params: 865,570\n",
      "Non-trainable params: 0\n",
      "_________________________________________________________________\n"
     ]
    }
   ],
   "source": [
    "# Define structure of the ANN with structure 128-256-512-512-512-256-128-64-32-2\n",
    "keras.backend.clear_session()    \n",
    "model_ANN = models.Sequential(name = MODEL_NAME_ANN)\n",
    "\n",
    "model_ANN.add(layers.Dense(128, input_shape = (x_train.shape[1],), activation=ACT_FUNC))\n",
    "model_ANN.add(layers.Dense(256, activation=ACT_FUNC))\n",
    "model_ANN.add(layers.Dense(512, activation=ACT_FUNC))\n",
    "model_ANN.add(layers.Dense(512, activation=ACT_FUNC))\n",
    "model_ANN.add(layers.Dense(512, activation=ACT_FUNC))\n",
    "model_ANN.add(layers.Dense(256, activation=ACT_FUNC))\n",
    "model_ANN.add(layers.Dense(128, activation=ACT_FUNC))\n",
    "model_ANN.add(layers.Dense(64, activation=ACT_FUNC))\n",
    "model_ANN.add(layers.Dense(32, activation=ACT_FUNC))\n",
    "model_ANN.add(layers.Dense(2, activation='softmax'))\n",
    "\n",
    "model_ANN.compile(optimizer = OPT(), loss = LOSS_FUNC, metrics = METRICS)\n",
    "model_ANN.summary()"
   ]
  },
  {
   "cell_type": "code",
   "execution_count": null,
   "id": "d4b709cb",
   "metadata": {},
   "outputs": [],
   "source": [
    "# Define two XGBClassifiers\n",
    "model_xgb = XGBClassifier()\n",
    "model_xgb10 = XGBClassifier(n_estimators = 10)"
   ]
  },
  {
   "cell_type": "code",
   "execution_count": 72,
   "id": "7565f72b",
   "metadata": {},
   "outputs": [
    {
     "name": "stdout",
     "output_type": "stream",
     "text": [
      "Epoch 1/200\n",
      "25000/25000 [==============================] - 276s 11ms/step - loss: 2.9642e-07 - accuracy: 0.9375 - mse: 0.0452 - mae: 0.0699\n",
      "Epoch 2/200\n",
      "25000/25000 [==============================] - 289s 12ms/step - loss: 1.3921e-07 - accuracy: 0.9729 - mse: 0.0206 - mae: 0.0293\n",
      "Epoch 3/200\n",
      "25000/25000 [==============================] - 304s 12ms/step - loss: 1.0572e-07 - accuracy: 0.9797 - mse: 0.0155 - mae: 0.0222\n",
      "Epoch 4/200\n",
      "25000/25000 [==============================] - 262s 10ms/step - loss: 8.7523e-08 - accuracy: 0.9838 - mse: 0.0126 - mae: 0.0180\n",
      "Epoch 5/200\n",
      "25000/25000 [==============================] - 290s 12ms/step - loss: 7.1982e-08 - accuracy: 0.9863 - mse: 0.0104 - mae: 0.0149\n",
      "Epoch 6/200\n",
      "25000/25000 [==============================] - 291s 12ms/step - loss: 6.4380e-08 - accuracy: 0.9879 - mse: 0.0092 - mae: 0.0134\n"
     ]
    }
   ],
   "source": [
    "# Training ANN model\n",
    "training_history_ANN = model_ANN.fit(x_train, to_categorical(y_train), epochs = EPOCHS, shuffle = True, \n",
    "                                     callbacks=[callback], verbose=1, \n",
    "                                     class_weight={0:1/sum(y_train == 0),1:1/sum(y_train == 1)})"
   ]
  },
  {
   "cell_type": "code",
   "execution_count": 74,
   "id": "777fdb9a",
   "metadata": {},
   "outputs": [
    {
     "data": {
      "text/plain": [
       "<Figure size 1800x1200 with 0 Axes>"
      ]
     },
     "metadata": {},
     "output_type": "display_data"
    },
    {
     "data": {
      "image/png": "[encoded data removed]",
      "text/plain": [
       "<Figure size 624.23x624.23 with 4 Axes>"
      ]
     },
     "metadata": {
      "needs_background": "light"
     },
     "output_type": "display_data"
    }
   ],
   "source": [
    "\"\"\"\n",
    "METHOD: Show metrics obtained during each epoch in training of ANN model\n",
    "The metrics are the following:\n",
    "Loss - Categorical Crossentropy\n",
    "Accuracy - rate of the accurate/true predictions over all predictions\n",
    "MSE - Mean Squared Error\n",
    "MAE - Mean Absolute Error\n",
    "\"\"\"\n",
    "def plot_training_history(training_history, file_name = None):\n",
    "    loss_history = training_history.history['loss']\n",
    "    acc_history = training_history.history['accuracy']\n",
    "    mse_history = training_history.history['mse']\n",
    "    mae_history = training_history.history['mae']\n",
    "\n",
    "    # Define plot size, approximately 1024x1024 pixels \n",
    "    dpi = 300\n",
    "    num_of_pixels = 1024\n",
    "    num_of_inches = num_of_pixels / dpi\n",
    "    cm = num_of_inches * 2.54\n",
    "\n",
    "    plt.gcf().set_dpi(dpi)\n",
    "    fig = plt.figure(figsize=(cm,cm))\n",
    "    plt.subplots_adjust(hspace=0.3)\n",
    "    \n",
    "    axs11 = fig.add_subplot(2,2,1)\n",
    "    axs12 = fig.add_subplot(2,2,2)\n",
    "    axs21 = fig.add_subplot(2,2,3)\n",
    "    axs22 = fig.add_subplot(2,2,4)\n",
    "    \n",
    "    fig.suptitle('Training Metrics - ' + file_name if file_name is not None else '')\n",
    "\n",
    "    x_ticks = np.arange(1, len(loss_history), 2)\n",
    "    for axs in (axs11, axs12, axs21, axs22):\n",
    "        axs.set_xlabel('epochs')\n",
    "        axs.set_xticks(x_ticks)\n",
    "        \n",
    "    axs11.plot(loss_history)\n",
    "    axs11.set_title('Loss')\n",
    "    axs12.plot(acc_history)\n",
    "    axs12.set_title('Accuracy')\n",
    "    axs21.plot(mse_history)\n",
    "    axs21.set_title('MSE')\n",
    "    axs22.plot(mae_history)\n",
    "    axs22.set_title('MAE')\n",
    "\n",
    "    plt.show()\n",
    "    # Save the figure as an image if specified \n",
    "    if file_name is not None:\n",
    "        fig.savefig(os.path.join(OUTPUT_PATH, 'Training Metrics - ' + file_name + '.jpg'))\n",
    "        \n",
    "plot_training_history(training_history_ANN, file_name='CreditCardFraud')"
   ]
  },
  {
   "cell_type": "code",
   "execution_count": 215,
   "id": "1d9a5015",
   "metadata": {},
   "outputs": [
    {
     "name": "stdout",
     "output_type": "stream",
     "text": [
      "Training XGB ...\n",
      "Training XGB with 10 Trees...\n"
     ]
    }
   ],
   "source": [
    "print('Training XGB ...')\n",
    "model_xgb.fit(x_train, y_train, sample_weight=class_weights)\n",
    "\n",
    "print('Training XGB with 10 Trees...')\n",
    "model_xgb10.fit(x_train, y_train, sample_weight=class_weights)"
   ]
  },
  {
   "cell_type": "markdown",
   "id": "733590c5",
   "metadata": {},
   "source": [
    "<h1 align=\"center\">3. Results Analysis</h1>"
   ]
  },
  {
   "cell_type": "code",
   "execution_count": 284,
   "id": "638fee3a",
   "metadata": {},
   "outputs": [],
   "source": [
    "\"\"\"\n",
    "METHOD: Show evaluation metrics over TEST data & estimate confusion matrix\n",
    "The metrics are the following: Precision, Recall, F1-Score, Support.\n",
    "\"\"\"\n",
    "def conf_matrix_and_classification_report(y_true, y_pred, num_of_classes = 10, class_names = None):\n",
    "    if class_names is None:\n",
    "        class_names = [str(i) for i in range(num_of_classes)]\n",
    "    \n",
    "    conf_matrix = sklearn.metrics.confusion_matrix(y_true, y_pred)\n",
    "    for i in range(len(conf_matrix)):\n",
    "        print(class_names[i] + ':', conf_matrix[i])\n",
    "    print('-----------------------------------------------------')\n",
    "    # Print the precision and recall, among other metrics\n",
    "    print(sklearn.metrics.classification_report(y_true, y_pred, target_names = class_names)) # output_dict=True, for not rounding"
   ]
  },
  {
   "cell_type": "code",
   "execution_count": 285,
   "id": "b1044885",
   "metadata": {},
   "outputs": [
    {
     "name": "stdout",
     "output_type": "stream",
     "text": [
      "Detailed Training Results of ANN model\n",
      "Valid: [175996   6561]\n",
      "Fraud: [    4 17439]\n",
      "-----------------------------------------------------\n",
      "              precision    recall  f1-score   support\n",
      "\n",
      "       Valid       1.00      0.96      0.98    182557\n",
      "       Fraud       0.73      1.00      0.84     17443\n",
      "\n",
      "    accuracy                           0.97    200000\n",
      "   macro avg       0.86      0.98      0.91    200000\n",
      "weighted avg       0.98      0.97      0.97    200000\n",
      "\n",
      "\n",
      "Detailed Training Results of XGBClassifier - 10 model\n",
      "Valid: [182537     20]\n",
      "Fraud: [    2 17441]\n",
      "-----------------------------------------------------\n",
      "              precision    recall  f1-score   support\n",
      "\n",
      "       Valid       1.00      1.00      1.00    182557\n",
      "       Fraud       1.00      1.00      1.00     17443\n",
      "\n",
      "    accuracy                           1.00    200000\n",
      "   macro avg       1.00      1.00      1.00    200000\n",
      "weighted avg       1.00      1.00      1.00    200000\n",
      "\n",
      "\n",
      "Detailed Training Results of XGBClassifier model\n",
      "Valid: [182556      1]\n",
      "Fraud: [    2 17441]\n",
      "-----------------------------------------------------\n",
      "              precision    recall  f1-score   support\n",
      "\n",
      "       Valid       1.00      1.00      1.00    182557\n",
      "       Fraud       1.00      1.00      1.00     17443\n",
      "\n",
      "    accuracy                           1.00    200000\n",
      "   macro avg       1.00      1.00      1.00    200000\n",
      "weighted avg       1.00      1.00      1.00    200000\n",
      "\n"
     ]
    }
   ],
   "source": [
    "print(f'Detailed Training Results of {MODEL_NAME_ANN} model')\n",
    "y_pred_1hot_ann = model_ANN.predict(x_test)\n",
    "y_pred_ann = np.argmax(y_pred_1hot_ann, axis = 1)\n",
    "conf_matrix_and_classification_report(y_test, y_pred_ann, class_names=CLASS_NAMES)\n",
    "\n",
    "print()\n",
    "\n",
    "print(f'Detailed Training Results of {MODEL_NAME_XGB10} model')\n",
    "y_pred_1hot_xgb10 = model_xgb10.predict_proba(x_test)\n",
    "y_pred_xgb10 = np.argmax(y_pred_1hot_xgb10, axis = 1)\n",
    "conf_matrix_and_classification_report(y_test, y_pred_xgb10, class_names=CLASS_NAMES)\n",
    "\n",
    "print()\n",
    "\n",
    "print(f'Detailed Training Results of {MODEL_NAME_XGB} model')\n",
    "y_pred_1hot_xgb = model_xgb.predict_proba(x_test)\n",
    "y_pred_xgb = np.argmax(y_pred_1hot_xgb, axis = 1)\n",
    "conf_matrix_and_classification_report(y_test, y_pred_xgb, class_names=CLASS_NAMES)"
   ]
  },
  {
   "cell_type": "code",
   "execution_count": 289,
   "id": "7c405ef5",
   "metadata": {},
   "outputs": [],
   "source": [
    "# Calculate some metrics: Area Under Curve, Accuracy\n",
    "# Prepare metrics for Receiver Operating Characteristics and Precision on Recall curves\n",
    "\n",
    "y_test_1hot = to_categorical(y_test)\n",
    "y_test_prob = y_test_1hot[:,1]\n",
    "y_pred_prob_ann, y_pred_prob_xgb10, y_pred_prob_xgb = y_pred_1hot_ann[:,1], y_pred_1hot_xgb10[:,1], y_pred_1hot_xgb[:,1]\n",
    "\n",
    "\n",
    "fpr_ann, tpr_ann, thresholds_ann = roc_curve(y_test_prob, y_pred_prob_ann)\n",
    "fpr_xgb10, tpr_xgb10, thresholds_xgb10 = roc_curve(y_test_prob, y_pred_prob_xgb10)\n",
    "fpr_xgb, tpr_xgb, thresholds_xgb = roc_curve(y_test_prob, y_pred_prob_xgb)\n",
    "\n",
    "precision_ann, recall_ann, thresholds_ann = precision_recall_curve(y_test_prob, y_pred_prob_ann)\n",
    "precision_xgb10, recall_xgb10, thresholds_xgb10 = precision_recall_curve(y_test_prob, y_pred_prob_xgb10)\n",
    "precision_xgb, recall_xgb, thresholds_xgb = precision_recall_curve(y_test_prob, y_pred_prob_xgb)\n",
    "\n",
    "auc_ann = auc(fpr_ann, tpr_ann)\n",
    "auc_xgb10 = auc(fpr_xgb10, tpr_xgb10)\n",
    "auc_xgb = auc(fpr_xgb, tpr_xgb)\n",
    "\n",
    "acc_ann = metrics.accuracy_score(y_test, y_pred_ann)\n",
    "acc_xgb10 = metrics.accuracy_score(y_test, y_pred_xgb10)\n",
    "acc_xgb = metrics.accuracy_score(y_test, y_pred_xgb)"
   ]
  },
  {
   "cell_type": "code",
   "execution_count": 290,
   "id": "78f2bd8d",
   "metadata": {},
   "outputs": [
    {
     "data": {
      "text/html": [
       "<div>\n",
       "<style scoped>\n",
       "    .dataframe tbody tr th:only-of-type {\n",
       "        vertical-align: middle;\n",
       "    }\n",
       "\n",
       "    .dataframe tbody tr th {\n",
       "        vertical-align: top;\n",
       "    }\n",
       "\n",
       "    .dataframe thead th {\n",
       "        text-align: right;\n",
       "    }\n",
       "</style>\n",
       "<table border=\"1\" class=\"dataframe\">\n",
       "  <thead>\n",
       "    <tr style=\"text-align: right;\">\n",
       "      <th></th>\n",
       "      <th>Accuracy</th>\n",
       "      <th>AUC</th>\n",
       "    </tr>\n",
       "  </thead>\n",
       "  <tbody>\n",
       "    <tr>\n",
       "      <th>ANN</th>\n",
       "      <td>0.967175</td>\n",
       "      <td>0.995712</td>\n",
       "    </tr>\n",
       "    <tr>\n",
       "      <th>XGBClassifier</th>\n",
       "      <td>0.999985</td>\n",
       "      <td>1.000000</td>\n",
       "    </tr>\n",
       "    <tr>\n",
       "      <th>XGBClassifier - 10</th>\n",
       "      <td>0.999890</td>\n",
       "      <td>0.999998</td>\n",
       "    </tr>\n",
       "  </tbody>\n",
       "</table>\n",
       "</div>"
      ],
      "text/plain": [
       "                    Accuracy       AUC\n",
       "ANN                 0.967175  0.995712\n",
       "XGBClassifier       0.999985  1.000000\n",
       "XGBClassifier - 10  0.999890  0.999998"
      ]
     },
     "execution_count": 290,
     "metadata": {},
     "output_type": "execute_result"
    }
   ],
   "source": [
    "# Show ACC and AUC for models\n",
    "row1 = [acc_ann, auc_ann]\n",
    "row2 = [acc_xgb, auc_xgb]\n",
    "row3 = [acc_xgb10, auc_xgb10]\n",
    "df_metrics = pd.DataFrame(np.array([row1, row2, row3]), columns=['Accuracy', 'AUC'])\n",
    "df_metrics.index = [MODEL_NAME_ANN, MODEL_NAME_XGB, MODEL_NAME_XGB10]\n",
    "df_metrics"
   ]
  },
  {
   "cell_type": "code",
   "execution_count": 293,
   "id": "fd014eaf",
   "metadata": {},
   "outputs": [],
   "source": [
    "class LengthsDoNotMatchException(Exception):\n",
    "    def __init__(self, length1, length2):\n",
    "        message = f'Lengths of arrays do not match: {length1} vs {length2}'\n",
    "        super().__init__(message)\n",
    "\n",
    "\"\"\"\n",
    "METHOD: Show metrics obtained In Testing WITH COMPARISONS OVER DIFFERENT MODELS\n",
    "Curves - ROC and Precision on Recall\n",
    "Metrics - AUC\n",
    "\"\"\"\n",
    "def plot_roc_pr_curve(roc_results, pr_results, model_names, file_name = None):\n",
    "    if not (len(roc_results) == len(pr_results) and len(pr_results) == len(model_names)):\n",
    "        raise LengthsDoNotMatchException(len(training_histories), len(model_names))\n",
    "\n",
    "    # Define plot size, approximately 1024x1024 pixels \n",
    "    dpi = 300\n",
    "    num_of_pixels = 1024\n",
    "    num_of_inches = num_of_pixels / dpi\n",
    "    cm = num_of_inches * 2.54\n",
    "\n",
    "    plt.gcf().set_dpi(dpi)\n",
    "    fig = plt.figure(figsize=(cm,cm))\n",
    "    plt.subplots_adjust(hspace=0.3)\n",
    "\n",
    "    axs11 = fig.add_subplot(2,1,1)\n",
    "    axs21 = fig.add_subplot(2,1,2)\n",
    "\n",
    "    fig.suptitle('Training Metrics - ' + file_name if file_name is not None else '')\n",
    "\n",
    "    axs11.set_xlabel('False Positive Rate')\n",
    "    axs11.set_ylabel('True Positive Rate')\n",
    "    axs21.set_xlabel('Recall')\n",
    "    axs21.set_ylabel('Precision')\n",
    "    \n",
    "    for i in range(len(roc_results)):\n",
    "        axs11.plot(roc_results[i][0], roc_results[i][1], label = model_names[i])\n",
    "        axs21.plot(pr_results[i][0], pr_results[i][1], label = model_names[i][:model_names[i].find('(')])\n",
    "\n",
    "    axs11.set_title('Receiver Operating Characteristics')\n",
    "    axs21.set_title('Precision on Recall')\n",
    "\n",
    "    axs11.legend()\n",
    "    axs21.legend()\n",
    "    plt.show()\n",
    "    \n",
    "    # Save the figure as an image if specified \n",
    "    if file_name is not None:\n",
    "        fig.savefig(os.path.join(OUTPUT_PATH, 'Training Metrics - ' + file_name + '.jpg'))"
   ]
  },
  {
   "cell_type": "code",
   "execution_count": 294,
   "id": "a2661b95",
   "metadata": {},
   "outputs": [
    {
     "data": {
      "text/plain": [
       "<Figure size 1800x1200 with 0 Axes>"
      ]
     },
     "metadata": {},
     "output_type": "display_data"
    },
    {
     "data": {
      "image/png": "[encoded data removed]",
      "text/plain": [
       "<Figure size 624.23x624.23 with 2 Axes>"
      ]
     },
     "metadata": {
      "needs_background": "light"
     },
     "output_type": "display_data"
    }
   ],
   "source": [
    "# Plot ROC and Precision on Recall curves\n",
    "roc_results_ann_xgb = [(fpr_ann, tpr_ann), (fpr_xgb, tpr_xgb)]\n",
    "pr_results_ann_xgb = [(recall_ann, precision_ann), (recall_xgb, precision_xgb)]\n",
    "\n",
    "plot_roc_pr_curve(roc_results=roc_results_ann_xgb, \n",
    "                  pr_results=pr_results_ann_xgb,\n",
    "                 model_names=[MODEL_NAME_ANN + f' (AUC: {round(auc_ann, 4)})', MODEL_NAME_XGB + f' (AUC: {round(auc_xgb, 4)})'], \n",
    "                  file_name='ANN-XGB-CredictCardFraudDetection')"
   ]
  },
  {
   "cell_type": "code",
   "execution_count": 218,
   "id": "02825466",
   "metadata": {},
   "outputs": [
    {
     "name": "stdout",
     "output_type": "stream",
     "text": [
      "INFO:tensorflow:Assets written to: output/model_ann-CreditCardFraudDetection\\assets\n"
     ]
    }
   ],
   "source": [
    "PROBLEM_NAME = 'CreditCardFraudDetection'\n",
    "model_xgb.save_model(os.path.join(OUTPUT_PATH, f\"model_xgb100-{PROBLEM_NAME}.json\"))\n",
    "model_xgb10.save_model(os.path.join(OUTPUT_PATH, f\"model_xgb10-{PROBLEM_NAME}.json\"))\n",
    "model_ANN.save(os.path.join(OUTPUT_PATH, f\"model_ann-{PROBLEM_NAME}\"))"
   ]
  },
  {
   "cell_type": "code",
   "execution_count": null,
   "id": "b6bdd9a4",
   "metadata": {},
   "outputs": [],
   "source": []
  }
 ],
 "metadata": {
  "kernelspec": {
   "display_name": "Python 3",
   "language": "python",
   "name": "python3"
  },
  "language_info": {
   "codemirror_mode": {
    "name": "ipython",
    "version": 3
   },
   "file_extension": ".py",
   "mimetype": "text/x-python",
   "name": "python",
   "nbconvert_exporter": "python",
   "pygments_lexer": "ipython3",
   "version": "3.8.8"
  }
 },
 "nbformat": 4,
 "nbformat_minor": 5
}
